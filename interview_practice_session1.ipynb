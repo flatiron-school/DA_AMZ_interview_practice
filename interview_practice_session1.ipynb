{
 "cells": [
  {
   "cell_type": "markdown",
   "metadata": {},
   "source": [
    "# Practice Interview Problems Session 1\n",
    "\n",
    "## General Tips\n",
    "- **COMMUNICATION IS KEY**\n",
    "- Before Coding\n",
    "    - Clarify question\n",
    "    - Outline approach\n",
    "- Coding\n",
    "    - Think out loud\n",
    "    - Solve, then optimize\n",
    "- After Coding\n",
    "    - Walk through solution with example input\n",
    "\n",
    "[Source](https://towardsdatascience.com/the-ultimate-guide-to-acing-coding-interviews-for-data-scientists-d45c99d6bddc)"
   ]
  },
  {
   "cell_type": "markdown",
   "metadata": {},
   "source": [
    "## In-Flight Movies\n",
    "\n",
    "Given a list of movie lengths (in minutes: int) and a flight time (int), return a boolean if there are two movies that can be played back-to-back to equal the length of the flight.\n",
    "\n",
    "**Example :**\n",
    "\n",
    "`movies = [120, 80, 50, 90]`\n",
    "\n",
    "`flight = 200`\n",
    "\n",
    ">True (120 + 80 = 200)\n",
    "\n",
    "Constraints\n",
    "- Each movie in the list can be counted only once (you cannot watch the same movie twice)\n",
    "- The length of the list of movies >= 2\n",
    "- The length of the flight > 0"
   ]
  },
  {
   "cell_type": "code",
   "execution_count": null,
   "metadata": {},
   "outputs": [],
   "source": [
    "def find_inflight_movie_pair(flight_time, movies_lengths):\n",
    "    pass"
   ]
  },
  {
   "cell_type": "code",
   "execution_count": null,
   "metadata": {},
   "outputs": [],
   "source": []
  },
  {
   "cell_type": "code",
   "execution_count": null,
   "metadata": {},
   "outputs": [],
   "source": [
    "movies_test1 = [80, 40, 40, 100, 130]\n",
    "flight_test1 = 160\n",
    "\n",
    "assert find_inflight_movie_pair(flight_test1, movie_test1) == False"
   ]
  },
  {
   "cell_type": "code",
   "execution_count": null,
   "metadata": {},
   "outputs": [],
   "source": [
    "movies_test2 = [80, 90, 100, 35, 145, 80]\n",
    "flight_test2 = 160\n",
    "\n",
    "assert find_inflight_movie_pair(flight_test2, movie_test2) == True"
   ]
  },
  {
   "cell_type": "markdown",
   "metadata": {},
   "source": [
    "## Factorials\n",
    "\n",
    "Define a function which accepts an integer, `n`, and returns n factorial.\n",
    "\n",
    "n! = n × (n – 1) × (n – 2) × … × 1\n",
    "\n",
    "**Example:**\n",
    "\n",
    "4! = 4 x 3 x 2 x 1 = 24"
   ]
  },
  {
   "cell_type": "code",
   "execution_count": null,
   "metadata": {},
   "outputs": [],
   "source": [
    "def factorial(n):\n",
    "    pass"
   ]
  },
  {
   "cell_type": "code",
   "execution_count": null,
   "metadata": {},
   "outputs": [],
   "source": []
  },
  {
   "cell_type": "code",
   "execution_count": null,
   "metadata": {},
   "outputs": [],
   "source": [
    "assert factorial(6) == 720\n",
    "assert factorial(10) == 3628800\n",
    "assert factorial(1) == 1"
   ]
  },
  {
   "cell_type": "markdown",
   "metadata": {},
   "source": [
    "## Reverse Vowels\n",
    "\n",
    "Given a string `s`, reverse only the vowels in the string and return it."
   ]
  },
  {
   "cell_type": "code",
   "execution_count": null,
   "metadata": {},
   "outputs": [],
   "source": [
    "def reverse_vowels(s):\n",
    "    pass"
   ]
  },
  {
   "cell_type": "code",
   "execution_count": null,
   "metadata": {},
   "outputs": [],
   "source": []
  },
  {
   "cell_type": "code",
   "execution_count": null,
   "metadata": {},
   "outputs": [],
   "source": [
    "assert reverse_vowels('Eunonia') == 'ainouE'\n",
    "assert reverse_vowels('Finxter') == 'Fenxtir'\n",
    "assert reverse_vowels('hellOO') == 'hOllOe'"
   ]
  }
 ],
 "metadata": {
  "kernelspec": {
   "display_name": "Python (learn-env)",
   "language": "python",
   "name": "learn-env"
  },
  "language_info": {
   "codemirror_mode": {
    "name": "ipython",
    "version": 3
   },
   "file_extension": ".py",
   "mimetype": "text/x-python",
   "name": "python",
   "nbconvert_exporter": "python",
   "pygments_lexer": "ipython3",
   "version": "3.8.5"
  }
 },
 "nbformat": 4,
 "nbformat_minor": 4
}
