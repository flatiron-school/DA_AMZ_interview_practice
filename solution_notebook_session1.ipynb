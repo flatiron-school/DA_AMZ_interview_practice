{
 "cells": [
  {
   "cell_type": "markdown",
   "metadata": {},
   "source": [
    "# Practice Interview Problems Session 1\n",
    "\n",
    "## General Tips\n",
    "- **COMMUNICATION IS KEY**\n",
    "- Before Coding\n",
    "    - Clarify question\n",
    "    - Outline approach\n",
    "- Coding\n",
    "    - Think out loud\n",
    "    - Solve, then optimize\n",
    "- After Coding\n",
    "    - Walk through solution with example input\n",
    "\n",
    "[Source](https://towardsdatascience.com/the-ultimate-guide-to-acing-coding-interviews-for-data-scientists-d45c99d6bddc)"
   ]
  },
  {
   "cell_type": "markdown",
   "metadata": {},
   "source": [
    "## In-Flight Movies\n",
    "\n",
    "Given a list of movie lengths (in minutes: int) and a flight time (int), return a boolean if there are two movies that can be played back-to-back to equal the length of the flight.\n",
    "\n",
    "**Example :**\n",
    "\n",
    "`movies = [120, 80, 50, 90]`\n",
    "\n",
    "`flight = 200`\n",
    "\n",
    ">True (120 + 80 = 200)\n",
    "\n",
    "Constraints\n",
    "- Each movie in the list can be counted only once (you cannot watch the same movie twice)\n",
    "- The length of the list of movies >= 2\n",
    "- The length of the flight > 0"
   ]
  },
  {
   "cell_type": "markdown",
   "metadata": {},
   "source": [
    "Outline:\n",
    "- Check every combination of movies\n",
    "- Compare total movie time to flight duration"
   ]
  },
  {
   "cell_type": "code",
   "execution_count": 1,
   "metadata": {},
   "outputs": [],
   "source": [
    "def find_inflight_movie_pair(flight_time, movies_lengths):\n",
    "    for i in range(len(movies_lengths)):\n",
    "        for j in range(i+1, len(movies_lengths)):\n",
    "            if movies_lengths[i] + movies_lengths[j] == flight_time:\n",
    "                return True\n",
    "    return False"
   ]
  },
  {
   "cell_type": "code",
   "execution_count": 2,
   "metadata": {},
   "outputs": [
    {
     "data": {
      "text/plain": [
       "True"
      ]
     },
     "execution_count": 2,
     "metadata": {},
     "output_type": "execute_result"
    }
   ],
   "source": [
    "find_inflight_movie_pair(200, [120, 80, 50, 90])"
   ]
  },
  {
   "cell_type": "code",
   "execution_count": 4,
   "metadata": {},
   "outputs": [],
   "source": [
    "movies_test1 = [80, 40, 40, 100, 130]\n",
    "flight_test1 = 160\n",
    "\n",
    "assert find_inflight_movie_pair(flight_test1, movies_test1) == False"
   ]
  },
  {
   "cell_type": "code",
   "execution_count": 6,
   "metadata": {},
   "outputs": [],
   "source": [
    "movies_test2 = [80, 90, 100, 35, 145, 80]\n",
    "flight_test2 = 160\n",
    "\n",
    "assert find_inflight_movie_pair(flight_test2, movies_test2) == True"
   ]
  },
  {
   "cell_type": "markdown",
   "metadata": {},
   "source": [
    "## Factorials\n",
    "\n",
    "Define a function which accepts an integer, `n`, and returns n factorial.\n",
    "\n",
    "n! = n × (n – 1) × (n – 2) × … × 1\n",
    "\n",
    "**Example:**\n",
    "\n",
    "4! = 4 x 3 x 2 x 1 = 24"
   ]
  },
  {
   "cell_type": "code",
   "execution_count": 20,
   "metadata": {},
   "outputs": [],
   "source": [
    "num = 5"
   ]
  },
  {
   "cell_type": "code",
   "execution_count": 21,
   "metadata": {},
   "outputs": [],
   "source": [
    "ans = 1"
   ]
  },
  {
   "cell_type": "code",
   "execution_count": 22,
   "metadata": {},
   "outputs": [],
   "source": [
    "while num >= 1:\n",
    "    ans *= num\n",
    "    num -= 1"
   ]
  },
  {
   "cell_type": "code",
   "execution_count": 23,
   "metadata": {},
   "outputs": [
    {
     "data": {
      "text/plain": [
       "120"
      ]
     },
     "execution_count": 23,
     "metadata": {},
     "output_type": "execute_result"
    }
   ],
   "source": [
    "ans"
   ]
  },
  {
   "cell_type": "code",
   "execution_count": 31,
   "metadata": {},
   "outputs": [],
   "source": [
    "def factorial(num):\n",
    "    ans = 1\n",
    "    while num >= 1:\n",
    "        ans *= num\n",
    "        num -= 1\n",
    "    return ans"
   ]
  },
  {
   "cell_type": "code",
   "execution_count": null,
   "metadata": {},
   "outputs": [],
   "source": []
  },
  {
   "cell_type": "code",
   "execution_count": 32,
   "metadata": {},
   "outputs": [
    {
     "data": {
      "text/plain": [
       "720"
      ]
     },
     "execution_count": 32,
     "metadata": {},
     "output_type": "execute_result"
    }
   ],
   "source": [
    "factorial(6)"
   ]
  },
  {
   "cell_type": "code",
   "execution_count": 33,
   "metadata": {},
   "outputs": [],
   "source": [
    "assert factorial(6) == 720\n",
    "assert factorial(10) == 3628800\n",
    "assert factorial(1) == 1"
   ]
  },
  {
   "cell_type": "markdown",
   "metadata": {},
   "source": [
    "## Reverse Vowels\n",
    "\n",
    "Given a string `s`, reverse only the vowels in the string and return it."
   ]
  },
  {
   "cell_type": "markdown",
   "metadata": {},
   "source": [
    "a, e, i, o, u"
   ]
  },
  {
   "cell_type": "code",
   "execution_count": 34,
   "metadata": {},
   "outputs": [],
   "source": [
    "vowels = ['a', 'e', 'i', 'o', 'u', 'A', 'E', 'I', 'O', 'U']"
   ]
  },
  {
   "cell_type": "code",
   "execution_count": 35,
   "metadata": {},
   "outputs": [],
   "source": [
    "word = 'Eunonia'"
   ]
  },
  {
   "cell_type": "code",
   "execution_count": 42,
   "metadata": {},
   "outputs": [],
   "source": [
    "vs = []"
   ]
  },
  {
   "cell_type": "code",
   "execution_count": 43,
   "metadata": {},
   "outputs": [],
   "source": [
    "new_word = ''"
   ]
  },
  {
   "cell_type": "code",
   "execution_count": 44,
   "metadata": {},
   "outputs": [
    {
     "data": {
      "text/plain": [
       "['E', 'u', 'o', 'i', 'a']"
      ]
     },
     "execution_count": 44,
     "metadata": {},
     "output_type": "execute_result"
    }
   ],
   "source": [
    "for char in word:\n",
    "    if char in vowels:\n",
    "        vs.append(char)\n",
    "vs"
   ]
  },
  {
   "cell_type": "code",
   "execution_count": 45,
   "metadata": {},
   "outputs": [],
   "source": [
    "for char in word:\n",
    "    if char in vowels:\n",
    "        new_word = new_word + vs.pop()\n",
    "    else:\n",
    "        new_word = new_word + char"
   ]
  },
  {
   "cell_type": "code",
   "execution_count": null,
   "metadata": {},
   "outputs": [],
   "source": []
  },
  {
   "cell_type": "code",
   "execution_count": 47,
   "metadata": {},
   "outputs": [],
   "source": [
    "def reverse_vowels(s):\n",
    "    \n",
    "    vowels = ['a', 'e', 'i', 'o', 'u', 'A', 'E', 'I', 'O', 'U']\n",
    "    vs = []\n",
    "    new_word = ''\n",
    "    \n",
    "    for char in s:\n",
    "        if char in vowels:\n",
    "            vs.append(char)\n",
    "            \n",
    "    for char in s:\n",
    "        if char in vowels:\n",
    "            new_word = new_word + vs.pop()\n",
    "        else:\n",
    "            new_word = new_word + char\n",
    "    \n",
    "    return new_word"
   ]
  },
  {
   "cell_type": "code",
   "execution_count": 54,
   "metadata": {},
   "outputs": [],
   "source": [
    "import re"
   ]
  },
  {
   "cell_type": "code",
   "execution_count": 55,
   "metadata": {},
   "outputs": [],
   "source": [
    "def reverse_vowels2(s):\n",
    "    return re.sub('(?i)[aeiou]', lambda m, v=re.findall('(?i)[aeiou]', s): v.pop(), s)"
   ]
  },
  {
   "cell_type": "code",
   "execution_count": 56,
   "metadata": {},
   "outputs": [
    {
     "data": {
      "text/plain": [
       "'ainonuE'"
      ]
     },
     "execution_count": 56,
     "metadata": {},
     "output_type": "execute_result"
    }
   ],
   "source": [
    "reverse_vowels2('Eunonia')"
   ]
  },
  {
   "cell_type": "code",
   "execution_count": 48,
   "metadata": {},
   "outputs": [],
   "source": [
    "assert reverse_vowels('Eunonia') == 'ainonuE'\n",
    "assert reverse_vowels('Finxter') == 'Fenxtir'\n",
    "assert reverse_vowels('hellOO') == 'hOllOe'"
   ]
  },
  {
   "cell_type": "code",
   "execution_count": 49,
   "metadata": {},
   "outputs": [
    {
     "data": {
      "text/plain": [
       "'Fenxtir'"
      ]
     },
     "execution_count": 49,
     "metadata": {},
     "output_type": "execute_result"
    }
   ],
   "source": [
    "reverse_vowels('Finxter')"
   ]
  },
  {
   "cell_type": "code",
   "execution_count": 50,
   "metadata": {},
   "outputs": [
    {
     "data": {
      "text/plain": [
       "'Python'"
      ]
     },
     "execution_count": 50,
     "metadata": {},
     "output_type": "execute_result"
    }
   ],
   "source": [
    "reverse_vowels('Python')"
   ]
  },
  {
   "cell_type": "code",
   "execution_count": 51,
   "metadata": {},
   "outputs": [
    {
     "data": {
      "text/plain": [
       "'UOIEA'"
      ]
     },
     "execution_count": 51,
     "metadata": {},
     "output_type": "execute_result"
    }
   ],
   "source": [
    "reverse_vowels('AEIOU')"
   ]
  },
  {
   "cell_type": "code",
   "execution_count": null,
   "metadata": {},
   "outputs": [],
   "source": []
  }
 ],
 "metadata": {
  "kernelspec": {
   "display_name": "Python (learn-env)",
   "language": "python",
   "name": "learn-env"
  },
  "language_info": {
   "codemirror_mode": {
    "name": "ipython",
    "version": 3
   },
   "file_extension": ".py",
   "mimetype": "text/x-python",
   "name": "python",
   "nbconvert_exporter": "python",
   "pygments_lexer": "ipython3",
   "version": "3.8.5"
  }
 },
 "nbformat": 4,
 "nbformat_minor": 4
}
